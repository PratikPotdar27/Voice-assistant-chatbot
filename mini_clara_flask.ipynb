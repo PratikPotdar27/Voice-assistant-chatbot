{
 "cells": [
  {
   "cell_type": "code",
   "execution_count": 21,
   "metadata": {},
   "outputs": [
    {
     "name": "stdout",
     "output_type": "stream",
     "text": [
      " * Serving Flask app \"__main__\" (lazy loading)\n",
      " * Environment: production\n",
      "   WARNING: This is a development server. Do not use it in a production deployment.\n",
      "   Use a production WSGI server instead.\n",
      " * Debug mode: off\n"
     ]
    },
    {
     "name": "stderr",
     "output_type": "stream",
     "text": [
      " * Running on http://127.0.0.1:5000/ (Press CTRL+C to quit)\n",
      "127.0.0.1 - - [19/Nov/2020 17:42:50] \"\u001b[37mGET / HTTP/1.1\u001b[0m\" 200 -\n",
      "127.0.0.1 - - [19/Nov/2020 17:43:01] \"\u001b[37mPOST /predict HTTP/1.1\u001b[0m\" 200 -\n"
     ]
    },
    {
     "name": "stdout",
     "output_type": "stream",
     "text": [
      "('Total Positive Sentences is ', 2, 'Total Negative Sentences is', 5)\n"
     ]
    },
    {
     "name": "stderr",
     "output_type": "stream",
     "text": [
      "127.0.0.1 - - [19/Nov/2020 17:43:11] \"\u001b[37mGET /f1 HTTP/1.1\u001b[0m\" 200 -\n",
      "127.0.0.1 - - [19/Nov/2020 17:43:14] \"\u001b[37mGET /getPlotCSV HTTP/1.1\u001b[0m\" 200 -\n"
     ]
    }
   ],
   "source": [
    "import numpy as np\n",
    "from flask import Flask, request, jsonify, render_template, url_for\n",
    "import pandas as pd\n",
    "\n",
    "\n",
    "\n",
    "app = Flask(__name__)\n",
    "#model = pickle.load(open('randomForestRegressor.pkl','rb'))\n",
    "\n",
    "\n",
    "#@app.route('/')\n",
    "@app.route('/', methods=[\"GET\",\"POST\"])\n",
    "def home():\n",
    "    #return 'Hello World'\n",
    "    return render_template('mini_clara.html')\n",
    "    #return render_template('index.html')\n",
    "\n",
    "@app.route('/predict',methods = ['POST'])\n",
    "def predict():\n",
    "    int_features = request.form.to_dict()\n",
    "    #final_features = [np.array(int_features)]\n",
    "    #prediction = model.predict(final_features)\n",
    "    #a=int_features.value\n",
    "    a=int_features['interview_score3']\n",
    "    data1=pd.read_csv('C:\\\\Users\\DELL\\Desktop\\deep learning\\For_sending_FTP\\\\main.csv')\n",
    "    data1['new_column']=data1.Review.str.findall(a).apply(', '.join,1)\n",
    "    cc=data1[data1['new_column'].str.contains(a)]\n",
    "    cc1=cc[cc['Sentiment']==1]\n",
    "    dd1=cc[cc['Sentiment']==0]\n",
    "    f=cc1['Sentiment'].count()\n",
    "    f1=dd1['Sentiment'].count()\n",
    "    s='Total Positive Sentences is ',f, 'Total Negative Sentences is',f1\n",
    "    \n",
    "    print(s)                                            #print(prediction[0])\n",
    "\n",
    "    #output = round(prediction[0], 2)\n",
    "    return render_template('mini_clara.html', prediction_text=s)\n",
    "\n",
    "\n",
    "\n",
    "@app.route(\"/f1\")\n",
    "def hello():\n",
    "    return '''\n",
    "        <html><body>\n",
    "       \n",
    "        <h2>Please download your fille.</h2>\n",
    "        <a href=\"/getPlotCSV\">Click me.</a>\n",
    "        </body></html>\n",
    "        '''\n",
    "\n",
    "@app.route(\"/getPlotCSV\")\n",
    "def getPlotCSV():\n",
    "    with open(\"main.csv\") as fp:\n",
    "         csv = fp.read()\n",
    "    #csv = '1,2,3\\n4,5,6\\n'\n",
    "    return Response(\n",
    "        csv,\n",
    "        mimetype=\"text/csv\",\n",
    "        headers={\"Content-disposition\":\n",
    "                 \"attachment; filename=main.csv\"})\n",
    "\n",
    "\n",
    "\n",
    "\n",
    "\n",
    "if __name__=='__main__':\n",
    "    app.run()"
   ]
  },
  {
   "cell_type": "code",
   "execution_count": 24,
   "metadata": {},
   "outputs": [],
   "source": [
    "a='adjcabkd'"
   ]
  },
  {
   "cell_type": "code",
   "execution_count": 52,
   "metadata": {},
   "outputs": [
    {
     "name": "stdout",
     "output_type": "stream",
     "text": [
      " * Serving Flask app \"__main__\" (lazy loading)\n",
      " * Environment: production\n",
      "   WARNING: This is a development server. Do not use it in a production deployment.\n",
      "   Use a production WSGI server instead.\n",
      " * Debug mode: off\n"
     ]
    },
    {
     "name": "stderr",
     "output_type": "stream",
     "text": [
      " * Running on http://127.0.0.1:5000/ (Press CTRL+C to quit)\n",
      "127.0.0.1 - - [18/Nov/2020 19:37:34] \"\u001b[33mGET / HTTP/1.1\u001b[0m\" 404 -\n"
     ]
    }
   ],
   "source": [
    "import numpy as np\n",
    "from flask import Flask, request, jsonify, render_template, url_for\n",
    "import pandas as pd\n",
    "import os\n",
    "from flask import redirect, url_for\n",
    "import glob\n",
    "from flask import Flask, send_file, render_template\n",
    "\n",
    "app = Flask(__name__)\n",
    "\n",
    "@app.route('/p1')\n",
    "def upload_form1():\n",
    "    return render_template('p.html')\n",
    "\n",
    "@app.route('/download1')\n",
    "def download_file1():\n",
    "    path=\"main.csv\"\n",
    "    return send_file(path, as_attachment=True)\n",
    "\n",
    "\n",
    "\n",
    "if __name__=='__main__':\n",
    "    app.run()"
   ]
  },
  {
   "cell_type": "code",
   "execution_count": 19,
   "metadata": {},
   "outputs": [
    {
     "name": "stdout",
     "output_type": "stream",
     "text": [
      " * Serving Flask app \"__main__\" (lazy loading)\n",
      " * Environment: production\n",
      "   WARNING: This is a development server. Do not use it in a production deployment.\n",
      "   Use a production WSGI server instead.\n",
      " * Debug mode: off\n"
     ]
    },
    {
     "name": "stderr",
     "output_type": "stream",
     "text": [
      " * Running on http://127.0.0.1:5000/ (Press CTRL+C to quit)\n",
      "127.0.0.1 - - [19/Nov/2020 17:31:24] \"\u001b[37mGET / HTTP/1.1\u001b[0m\" 200 -\n"
     ]
    }
   ],
   "source": [
    "from flask import Flask, Response\n",
    "app = Flask(__name__)\n",
    "\n",
    "@app.route(\"/\")\n",
    "def hello():\n",
    "    return '''\n",
    "        <html><body>\n",
    "        <h2>Please download your fille.</h2>\n",
    "        <a href=\"/getPlotCSV\">Click me.</a>\n",
    "        </body></html>\n",
    "        '''\n",
    "\n",
    "@app.route(\"/getPlotCSV\")\n",
    "def getPlotCSV():\n",
    "    with open(\"main.csv\") as fp:\n",
    "         csv = fp.read()\n",
    "    #csv = '1,2,3\\n4,5,6\\n'\n",
    "    return Response(\n",
    "        csv,\n",
    "        mimetype=\"text/csv\",\n",
    "        headers={\"Content-disposition\":\n",
    "                 \"attachment; filename=main.csv\"})\n",
    "\n",
    "\n",
    "if __name__=='__main__':\n",
    "    app.run()"
   ]
  },
  {
   "cell_type": "code",
   "execution_count": null,
   "metadata": {},
   "outputs": [],
   "source": []
  }
 ],
 "metadata": {
  "kernelspec": {
   "display_name": "Python 3",
   "language": "python",
   "name": "python3"
  },
  "language_info": {
   "codemirror_mode": {
    "name": "ipython",
    "version": 3
   },
   "file_extension": ".py",
   "mimetype": "text/x-python",
   "name": "python",
   "nbconvert_exporter": "python",
   "pygments_lexer": "ipython3",
   "version": "3.7.3"
  }
 },
 "nbformat": 4,
 "nbformat_minor": 2
}
